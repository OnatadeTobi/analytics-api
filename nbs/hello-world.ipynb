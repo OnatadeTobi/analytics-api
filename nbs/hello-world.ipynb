{
 "cells": [
  {
   "cell_type": "code",
   "execution_count": 2,
   "id": "502f0f09",
   "metadata": {},
   "outputs": [
    {
     "name": "stdout",
     "output_type": "stream",
     "text": [
      "Collecting requests\n",
      "  Using cached requests-2.32.4-py3-none-any.whl.metadata (4.9 kB)\n",
      "Collecting charset_normalizer<4,>=2 (from requests)\n",
      "  Using cached charset_normalizer-3.4.2-cp313-cp313-win_amd64.whl.metadata (36 kB)\n",
      "Requirement already satisfied: idna<4,>=2.5 in c:\\users\\tobi\\desktop\\analytics_api\\env\\lib\\site-packages (from requests) (3.10)\n",
      "Collecting urllib3<3,>=1.21.1 (from requests)\n",
      "  Using cached urllib3-2.5.0-py3-none-any.whl.metadata (6.5 kB)\n",
      "Collecting certifi>=2017.4.17 (from requests)\n",
      "  Downloading certifi-2025.8.3-py3-none-any.whl.metadata (2.4 kB)\n",
      "Using cached requests-2.32.4-py3-none-any.whl (64 kB)\n",
      "Downloading certifi-2025.8.3-py3-none-any.whl (161 kB)\n",
      "Using cached charset_normalizer-3.4.2-cp313-cp313-win_amd64.whl (105 kB)\n",
      "Using cached urllib3-2.5.0-py3-none-any.whl (129 kB)\n",
      "Installing collected packages: urllib3, charset_normalizer, certifi, requests\n",
      "Successfully installed certifi-2025.8.3 charset_normalizer-3.4.2 requests-2.32.4 urllib3-2.5.0\n",
      "Note: you may need to restart the kernel to use updated packages.\n"
     ]
    },
    {
     "name": "stderr",
     "output_type": "stream",
     "text": [
      "\n",
      "[notice] A new release of pip is available: 25.0.1 -> 25.2\n",
      "[notice] To update, run: python.exe -m pip install --upgrade pip\n"
     ]
    }
   ],
   "source": [
    "pip install requests\n"
   ]
  },
  {
   "cell_type": "code",
   "execution_count": 2,
   "id": "1cdca0b4",
   "metadata": {},
   "outputs": [
    {
     "data": {
      "text/plain": [
       "'http://localhost:8000/healthz'"
      ]
     },
     "execution_count": 2,
     "metadata": {},
     "output_type": "execute_result"
    }
   ],
   "source": [
    "path = '/healthz'\n",
    "base_url = 'http://localhost:8000'\n",
    "endpoint = f'{base_url}{path}'\n",
    "endpoint"
   ]
  },
  {
   "cell_type": "code",
   "execution_count": 1,
   "id": "425cc619",
   "metadata": {},
   "outputs": [
    {
     "ename": "NameError",
     "evalue": "name 'requests' is not defined",
     "output_type": "error",
     "traceback": [
      "\u001b[31m---------------------------------------------------------------------------\u001b[39m",
      "\u001b[31mNameError\u001b[39m                                 Traceback (most recent call last)",
      "\u001b[36mCell\u001b[39m\u001b[36m \u001b[39m\u001b[32mIn[1]\u001b[39m\u001b[32m, line 1\u001b[39m\n\u001b[32m----> \u001b[39m\u001b[32m1\u001b[39m response = \u001b[43mrequests\u001b[49m.get(endpoint)\n\u001b[32m      2\u001b[39m \u001b[38;5;28mprint\u001b[39m(response.ok)\n",
      "\u001b[31mNameError\u001b[39m: name 'requests' is not defined"
     ]
    }
   ],
   "source": [
    "response = requests.get(endpoint)\n",
    "print(response.ok)"
   ]
  },
  {
   "cell_type": "code",
   "execution_count": null,
   "id": "2138501f",
   "metadata": {},
   "outputs": [],
   "source": [
    "response = requests.get(endpoint)\n",
    "print(response.ok)"
   ]
  },
  {
   "cell_type": "code",
   "execution_count": 3,
   "id": "4c845365",
   "metadata": {},
   "outputs": [
    {
     "name": "stdout",
     "output_type": "stream",
     "text": [
      "Requirement already satisfied: requests in c:\\users\\tobi\\desktop\\analytics_api\\env\\lib\\site-packages (2.32.4)\n",
      "Requirement already satisfied: charset_normalizer<4,>=2 in c:\\users\\tobi\\desktop\\analytics_api\\env\\lib\\site-packages (from requests) (3.4.2)\n",
      "Requirement already satisfied: idna<4,>=2.5 in c:\\users\\tobi\\desktop\\analytics_api\\env\\lib\\site-packages (from requests) (3.10)\n",
      "Requirement already satisfied: urllib3<3,>=1.21.1 in c:\\users\\tobi\\desktop\\analytics_api\\env\\lib\\site-packages (from requests) (2.5.0)\n",
      "Requirement already satisfied: certifi>=2017.4.17 in c:\\users\\tobi\\desktop\\analytics_api\\env\\lib\\site-packages (from requests) (2025.8.3)\n",
      "Note: you may need to restart the kernel to use updated packages.\n"
     ]
    },
    {
     "name": "stderr",
     "output_type": "stream",
     "text": [
      "\n",
      "[notice] A new release of pip is available: 25.0.1 -> 25.2\n",
      "[notice] To update, run: python.exe -m pip install --upgrade pip\n"
     ]
    }
   ],
   "source": [
    "pip install requests"
   ]
  },
  {
   "cell_type": "code",
   "execution_count": 4,
   "id": "63c2516f",
   "metadata": {},
   "outputs": [
    {
     "name": "stdout",
     "output_type": "stream",
     "text": [
      "annotated-types==0.7.0\n",
      "anyio==4.10.0\n",
      "asttokens==3.0.0\n",
      "certifi==2025.8.3\n",
      "charset-normalizer==3.4.2\n",
      "click==8.2.1\n",
      "colorama==0.4.6\n",
      "comm==0.2.3\n",
      "debugpy==1.8.15\n",
      "decorator==5.2.1\n",
      "executing==2.2.0\n",
      "fastapi==0.116.1\n",
      "greenlet==3.2.3\n",
      "gunicorn==23.0.0\n",
      "h11==0.16.0\n",
      "idna==3.10\n",
      "ipykernel==6.30.1\n",
      "ipython==9.4.0\n",
      "ipython_pygments_lexers==1.1.1\n",
      "jedi==0.19.2\n",
      "jupyter_client==8.6.3\n",
      "jupyter_core==5.8.1\n",
      "matplotlib-inline==0.1.7\n",
      "nest-asyncio==1.6.0\n",
      "packaging==25.0\n",
      "parso==0.8.4\n",
      "platformdirs==4.3.8\n",
      "prompt_toolkit==3.0.51\n",
      "psutil==7.0.0\n",
      "pure_eval==0.2.3\n",
      "pydantic==2.11.7\n",
      "pydantic_core==2.33.2\n",
      "Pygments==2.19.2\n",
      "python-dateutil==2.9.0.post0\n",
      "pywin32==311\n",
      "pyzmq==27.0.1\n",
      "requests==2.32.4\n",
      "six==1.17.0\n",
      "sniffio==1.3.1\n",
      "SQLAlchemy==2.0.42\n",
      "sqlmodel==0.0.24\n",
      "stack-data==0.6.3\n",
      "starlette==0.47.2\n",
      "timescaledb==0.0.4\n",
      "tornado==6.5.1\n",
      "traitlets==5.14.3\n",
      "typing-inspection==0.4.1\n",
      "typing_extensions==4.14.1\n",
      "urllib3==2.5.0\n",
      "uvicorn==0.35.0\n",
      "wcwidth==0.2.13\n",
      "Note: you may need to restart the kernel to use updated packages.\n"
     ]
    }
   ],
   "source": [
    "pip freeze\n"
   ]
  },
  {
   "cell_type": "code",
   "execution_count": null,
   "id": "858482f6",
   "metadata": {},
   "outputs": [],
   "source": []
  }
 ],
 "metadata": {
  "kernelspec": {
   "display_name": "env",
   "language": "python",
   "name": "python3"
  },
  "language_info": {
   "codemirror_mode": {
    "name": "ipython",
    "version": 3
   },
   "file_extension": ".py",
   "mimetype": "text/x-python",
   "name": "python",
   "nbconvert_exporter": "python",
   "pygments_lexer": "ipython3",
   "version": "3.13.3"
  }
 },
 "nbformat": 4,
 "nbformat_minor": 5
}
